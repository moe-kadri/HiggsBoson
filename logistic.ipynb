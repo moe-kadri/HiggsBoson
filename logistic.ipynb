{
 "cells": [
  {
   "cell_type": "code",
   "execution_count": 2,
   "metadata": {},
   "outputs": [
    {
     "name": "stderr",
     "output_type": "stream",
     "text": [
      "C:\\Users\\Mohammad El Kadri\\AppData\\Local\\Temp\\ipykernel_6348\\1602505428.py:9: DtypeWarning: Columns (8,21) have mixed types. Specify dtype option on import or set low_memory=False.\n",
      "  data = pd.read_csv('HIGGS_train.csv', header=None)\n"
     ]
    },
    {
     "name": "stdout",
     "output_type": "stream",
     "text": [
      "Mean cross-validation accuracy: 0.6409449268351752\n",
      "Mean Cross-validation precision: 0.6379443865791645\n",
      "Mean Cross-validation recall: 0.7412748541064336\n",
      "Mean Cross-validation F1-score: 0.6857382646290245\n",
      "Accuracy on testing set: 0.6432416666666667\n",
      "Precision on testing set: 0.6434107473077342\n",
      "Recall on testing set: 0.7404584930756591\n",
      "F1-score on testing set: 0.6885317463204533\n",
      "Confusion matrix on testing set:\n",
      " [[29870 26225]\n",
      " [16586 47319]]\n"
     ]
    }
   ],
   "source": [
    "import pandas as pd\n",
    "import numpy as np\n",
    "from sklearn.model_selection import train_test_split, cross_val_score\n",
    "from sklearn.preprocessing import StandardScaler\n",
    "from sklearn.linear_model import LogisticRegression\n",
    "from sklearn.metrics import accuracy_score, precision_score, recall_score, f1_score, confusion_matrix\n",
    "\n",
    "# Load the dataset\n",
    "data = pd.read_csv('HIGGS_train.csv', header=None)\n",
    "\n",
    "# Drop rows with non-float values\n",
    "data = data.apply(pd.to_numeric, errors='coerce')\n",
    "data = data.dropna()\n",
    "\n",
    "# Split the data into features (X) and target variable (y)\n",
    "X = data.iloc[:, 1:].values\n",
    "y = data.iloc[:, 0].values\n",
    "\n",
    "# Split the data into training and testing sets\n",
    "X_train, X_test, y_train, y_test = train_test_split(X, y, test_size=0.2, random_state=42)\n",
    "\n",
    "# Standardize the feature values\n",
    "scaler = StandardScaler()\n",
    "X_train = scaler.fit_transform(X_train)\n",
    "X_test = scaler.transform(X_test)\n",
    "\n",
    "# Train the logistic regression model and perform 5-fold-cross-validation\n",
    "clf = LogisticRegression(random_state=42, max_iter=1000)\n",
    "clf.fit(X_train, y_train)\n",
    "\n",
    "# Calculate the performance metrics using cross-validation\n",
    "acc_scores = cross_val_score(clf, X_train, y_train, cv=5, scoring='accuracy')\n",
    "precision_scores = cross_val_score(clf, X_train, y_train, cv=5, scoring='precision')\n",
    "recall_scores = cross_val_score(clf, X_train, y_train, cv=5, scoring='recall')\n",
    "f1_scores = cross_val_score(clf, X_train, y_train, cv=5, scoring='f1')\n",
    "\n",
    "print('Mean cross-validation accuracy:', np.mean(acc_scores))\n",
    "print(\"Mean Cross-validation precision:\", np.mean(precision_scores))\n",
    "print(\"Mean Cross-validation recall:\", np.mean(recall_scores))\n",
    "print(\"Mean Cross-validation F1-score:\", np.mean(f1_scores))\n",
    "\n",
    "# Test the logistic regression model on the testing set\n",
    "y_pred = clf.predict(X_test)\n",
    "\n",
    "# Calculate the performance metrics on the testing set\n",
    "accuracy = accuracy_score(y_test, y_pred)\n",
    "precision = precision_score(y_test, y_pred)\n",
    "recall = recall_score(y_test, y_pred)\n",
    "f1 = f1_score(y_test, y_pred)\n",
    "conf_matrix = confusion_matrix(y_test, y_pred)\n",
    "\n",
    "print(\"Accuracy on testing set:\", accuracy)\n",
    "print(\"Precision on testing set:\", precision)\n",
    "print(\"Recall on testing set:\", recall)\n",
    "print(\"F1-score on testing set:\", f1)\n",
    "print(\"Confusion matrix on testing set:\\n\", conf_matrix)\n"
   ]
  },
  {
   "cell_type": "code",
   "execution_count": 3,
   "metadata": {},
   "outputs": [
    {
     "name": "stderr",
     "output_type": "stream",
     "text": [
      "C:\\Users\\Mohammad El Kadri\\AppData\\Local\\Temp\\ipykernel_6348\\1825707580.py:9: DtypeWarning: Columns (8,21) have mixed types. Specify dtype option on import or set low_memory=False.\n",
      "  data = pd.read_csv('HIGGS_train.csv', header=None)\n"
     ]
    },
    {
     "name": "stdout",
     "output_type": "stream",
     "text": [
      "Accuracy on HIGGS_train.csv: 0.5411436076240508\n",
      "Precision on HIGGS_train.csv: 0.7138158560527861\n",
      "Recall on HIGGS_train.csv: 0.22210991031841998\n",
      "F1-score on HIGGS_train.csv: 0.33879946779639847\n",
      "Confusion matrix on HIGGS_train.csv:\n",
      " [[254149  28279]\n",
      " [247033  70535]]\n"
     ]
    }
   ],
   "source": [
    "# save the model using pickle \n",
    "import pickle\n",
    "pickle.dump(clf, open('model.pkl','wb'))\n",
    "\n",
    "# load the model \n",
    "model = pickle.load(open('model.pkl','rb'))\n",
    "\n",
    "# predict the output on the HIGGS_train.csv\n",
    "data = pd.read_csv('HIGGS_train.csv', header=None)\n",
    "data = data.apply(pd.to_numeric, errors='coerce')\n",
    "data = data.dropna()\n",
    "X = data.iloc[:, 1:].values\n",
    "y = data.iloc[:, 0].values\n",
    "y_pred = model.predict(X)\n",
    "\n",
    "# calculate the performance metrics on the HIGGS_train.csv\n",
    "accuracy = accuracy_score(y, y_pred)\n",
    "precision = precision_score(y, y_pred)\n",
    "recall = recall_score(y, y_pred)\n",
    "f1 = f1_score(y, y_pred)\n",
    "conf_matrix = confusion_matrix(y, y_pred)\n",
    "\n",
    "print(\"Accuracy on HIGGS_train.csv:\", accuracy)\n",
    "print(\"Precision on HIGGS_train.csv:\", precision)\n",
    "print(\"Recall on HIGGS_train.csv:\", recall)\n",
    "print(\"F1-score on HIGGS_train.csv:\", f1)\n",
    "print(\"Confusion matrix on HIGGS_train.csv:\\n\", conf_matrix)"
   ]
  }
 ],
 "metadata": {
  "kernelspec": {
   "display_name": "Python 3",
   "language": "python",
   "name": "python3"
  },
  "language_info": {
   "codemirror_mode": {
    "name": "ipython",
    "version": 3
   },
   "file_extension": ".py",
   "mimetype": "text/x-python",
   "name": "python",
   "nbconvert_exporter": "python",
   "pygments_lexer": "ipython3",
   "version": "3.11.1"
  },
  "orig_nbformat": 4
 },
 "nbformat": 4,
 "nbformat_minor": 2
}
